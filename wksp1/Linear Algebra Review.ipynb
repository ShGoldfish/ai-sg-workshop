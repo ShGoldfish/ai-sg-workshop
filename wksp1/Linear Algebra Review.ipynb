{
 "cells": [
  {
   "cell_type": "markdown",
   "metadata": {},
   "source": [
    "# Linear Algebra / NumPy Review\n",
    "\n",
    "Before we learn about how we can apply neural networks to predict breast cancer, we should review the necessary linear algebra. This notebook will teach you how to use NumPy for basic linear algrebra and data manipulations. First, import the required modules:"
   ]
  },
  {
   "cell_type": "code",
   "execution_count": null,
   "metadata": {
    "collapsed": true
   },
   "outputs": [],
   "source": [
    "import numpy as np\n",
    "import math"
   ]
  },
  {
   "cell_type": "markdown",
   "metadata": {},
   "source": [
    "## NumPy Warmup\n",
    "\n",
    "We can use np.array to represent matrices in NumPy as follows:"
   ]
  },
  {
   "cell_type": "code",
   "execution_count": null,
   "metadata": {},
   "outputs": [],
   "source": [
    "mat = np.array([[1, 2, 3, 4, 5], [6, 7, 8, 9, 10], [11, 12, 13, 14, 15]])\n",
    "print(mat)"
   ]
  },
  {
   "cell_type": "markdown",
   "metadata": {},
   "source": [
    "This is a 3x5 matrix. How can we get only the first two rows of this matrix? Use NumPy's slice syntax to print out only the first two rows and produce the below output."
   ]
  },
  {
   "cell_type": "code",
   "execution_count": null,
   "metadata": {},
   "outputs": [],
   "source": []
  },
  {
   "cell_type": "markdown",
   "metadata": {},
   "source": [
    "$$\n",
    "\\begin{bmatrix}\n",
    "    1 & 2 & 3 & 4 & 5 \\\\\n",
    "    6 & 7 & 8 & 9 & 10\n",
    "\\end{bmatrix}\n",
    "$$"
   ]
  },
  {
   "cell_type": "markdown",
   "metadata": {},
   "source": [
    "How can we produce a 3x3 matrix that gets the first 3 elements of each row from mat? Use NumPy's slice syntax to reproduce the output shown."
   ]
  },
  {
   "cell_type": "code",
   "execution_count": null,
   "metadata": {},
   "outputs": [],
   "source": []
  },
  {
   "cell_type": "markdown",
   "metadata": {},
   "source": [
    "$$\n",
    "\\begin{bmatrix}\n",
    "    1 & 2 & 3 \\\\\n",
    "    6 & 7 & 8  \\\\\n",
    "    11 & 12 & 13\n",
    "\\end{bmatrix}\n",
    "$$"
   ]
  },
  {
   "cell_type": "markdown",
   "metadata": {},
   "source": [
    "Challenge: How can we produce a 3x2 matrix for which each row contains just the 1st and 3rd elements of the original matrix? Use NumPy's advanced slice syntax to reproduce the output shown."
   ]
  },
  {
   "cell_type": "code",
   "execution_count": null,
   "metadata": {},
   "outputs": [],
   "source": []
  },
  {
   "cell_type": "markdown",
   "metadata": {},
   "source": [
    "$$\n",
    "\\begin{bmatrix}\n",
    "    1 & 3 \\\\\n",
    "    6 & 8  \\\\\n",
    "    11 & 13\n",
    "\\end{bmatrix}\n",
    "$$"
   ]
  },
  {
   "cell_type": "markdown",
   "metadata": {},
   "source": [
    "## Matrix Multiplication"
   ]
  },
  {
   "cell_type": "markdown",
   "metadata": {},
   "source": [
    "The key operation a neural network does on its input is a series of matrix multiplications. For fully-connected neural networks like the ones we will be working with today, these matrix multiplications are just matrix-vector products.\n",
    "\n",
    "That is, an input vector is multiplied by a matrix (representing the weights of the neural network) to produce another vector, and this vector is multiplied by another matrix to produce another vector, and this continues until the final vector, which is the output of the neural network. Try multiplying this input vector by the weights matrix:"
   ]
  },
  {
   "cell_type": "code",
   "execution_count": null,
   "metadata": {},
   "outputs": [],
   "source": [
    "input_vector = np.array([1, 2, 3])\n",
    "weights_matrix = np.array([[1, -4, 5], [-7, 2, 2], [3, -5, 1]])\n",
    "\n",
    "\n",
    "print(\"Input:\", input_vector, \"\\n\")\n",
    "print(\"Weights:\\n\", weights_matrix, \"\\n\")\n",
    "\n",
    "result = None\n",
    "\n",
    "print(\"Result:\", result)"
   ]
  },
  {
   "cell_type": "markdown",
   "metadata": {},
   "source": [
    "This is a simplified neural network that takes in an input of size 1x3 and outputs one of size 1x3. What happens if we change the dimension of the weights matrix to 3x2? Try changing the above code so it produces the below output. Hint: use slicing to produce a new weights_matrix called sliced_weights_matrix."
   ]
  },
  {
   "cell_type": "code",
   "execution_count": null,
   "metadata": {},
   "outputs": [],
   "source": [
    "print(\"Input:\", input_vector, \"\\n\")\n",
    "print(\"Weights:\\n\", sliced_weights_matrix, \"\\n\")\n",
    "\n",
    "result = None\n",
    "\n",
    "print(\"Result:\", result)"
   ]
  },
  {
   "cell_type": "markdown",
   "metadata": {},
   "source": [
    "We changed the shape of the outputs! This is because we did matrix multiplication using 1x3 and 3x2 matrices, which gives us a resulting matrix of size 1x2. Manipulating the shape of our weight matrices is how we will change the number of neurons in each layer of our neural network."
   ]
  }
 ],
 "metadata": {
  "kernelspec": {
   "display_name": "Python 3",
   "language": "python",
   "name": "python3"
  },
  "language_info": {
   "codemirror_mode": {
    "name": "ipython",
    "version": 3
   },
   "file_extension": ".py",
   "mimetype": "text/x-python",
   "name": "python",
   "nbconvert_exporter": "python",
   "pygments_lexer": "ipython3",
   "version": "3.5.4"
  }
 },
 "nbformat": 4,
 "nbformat_minor": 2
}
