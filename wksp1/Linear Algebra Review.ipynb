{
 "cells": [
  {
   "cell_type": "markdown",
   "metadata": {},
   "source": [
    "# Linear Algebra / Numpy Review\n",
    "Before we learn about how we can apply neural networks to predict breast cancer, we should review the necessary linear algebra. This notebook will teach you how to use Numpy for basic linear algrebra and data manipulations."
   ]
  }
 ],
 "metadata": {
  "kernelspec": {
   "display_name": "tf3.5",
   "language": "python",
   "name": "tf3.5"
  },
  "language_info": {
   "codemirror_mode": {
    "name": "ipython",
    "version": 3
   },
   "file_extension": ".py",
   "mimetype": "text/x-python",
   "name": "python",
   "nbconvert_exporter": "python",
   "pygments_lexer": "ipython3",
   "version": "3.5.4"
  }
 },
 "nbformat": 4,
 "nbformat_minor": 2
}
